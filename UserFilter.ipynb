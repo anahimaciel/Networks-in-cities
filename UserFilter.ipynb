{
  "nbformat": 4,
  "nbformat_minor": 0,
  "metadata": {
    "colab": {
      "provenance": [],
      "authorship_tag": "ABX9TyOJiZ0VGcZL2NbiwY0MH/z6",
      "include_colab_link": true
    },
    "kernelspec": {
      "name": "python3",
      "display_name": "Python 3"
    },
    "language_info": {
      "name": "python"
    }
  },
  "cells": [
    {
      "cell_type": "markdown",
      "metadata": {
        "id": "view-in-github",
        "colab_type": "text"
      },
      "source": [
        "<a href=\"https://colab.research.google.com/github/anahimaciel/Networks-in-cities/blob/main/UserFilter.ipynb\" target=\"_parent\"><img src=\"https://colab.research.google.com/assets/colab-badge.svg\" alt=\"Open In Colab\"/></a>"
      ]
    },
    {
      "cell_type": "code",
      "execution_count": null,
      "metadata": {
        "id": "usWZrC3cfNuI",
        "colab": {
          "base_uri": "https://localhost:8080/"
        },
        "outputId": "602aab95-cd6b-4e21-b18d-b02671527b76"
      },
      "outputs": [
        {
          "output_type": "stream",
          "name": "stdout",
          "text": [
            "Mounted at /content/drive\n"
          ]
        }
      ],
      "source": [
        "from google.colab import drive\n",
        "drive.mount('/content/drive')"
      ]
    },
    {
      "cell_type": "code",
      "source": [
        "import numpy as np\n",
        "import pandas as pd"
      ],
      "metadata": {
        "id": "6EWQ0dltf_Pc"
      },
      "execution_count": null,
      "outputs": []
    },
    {
      "cell_type": "code",
      "source": [
        "#read csv\n",
        "df = pd.read_csv(\"/content/drive/MyDrive/Networks in cities/Dados/Caucaia/cdr_Caucaia.txt\", header=None, sep=';',usecols=[0,1,4,6,7])\n",
        "#df = pd.read_csv(\"/content/drive/MyDrive/Networks in cities/Dados/Fortaleza/cdr_Fortaleza.txt\", header=None, sep=';',usecols=[0,1,4,6,7])\n",
        "#cdr_data.columns = [\"date\", \"time\", \"duration\", \"ddd_from\",\n",
        "#\"user_from\", \"ddd_to\", \"user_to\", \"antenna\", \"cell_id_to\",\n",
        "# \"nu_trafego\", \"tp_trafego\", \"hold_from\", \"hold_to\", \"tp_line\", \"unk_number\"]\n",
        "df.columns = [\"date\", \"time\",\"user_from\",\"user_to\",\"antenna\"]\n",
        "df"
      ],
      "metadata": {
        "id": "uYkUOGrAf_yM"
      },
      "execution_count": null,
      "outputs": []
    },
    {
      "cell_type": "code",
      "source": [
        "#create dataframe with number of calls of each user\n",
        "calls_by_user=df.groupby('user_from').agg({'date':'nunique','time':'nunique'}).reset_index()\n",
        "calls_by_user"
      ],
      "metadata": {
        "id": "nNulv9KggHsk"
      },
      "execution_count": null,
      "outputs": []
    },
    {
      "cell_type": "code",
      "source": [
        "#drop users outside that made too few or too many calls and whoo called in less than 5 different days\n",
        "filter=((calls_by_user['date']>5) & (calls_by_user['time']>=10) & (calls_by_user['time']<=300))\n",
        "filtered_users= calls_by_user.loc[filter,'user_from']\n",
        "filtered_df=df[~df['user_from'].isin(filtered_users)]\n",
        "#aux=df['user_from'].map(calls_by_user)\n",
        "#filtered_df=df[(aux['time'].between(5,300, inclusive=True)) & (not aux['date'].between(0,4, inclusive=True))]\n",
        "filtered_df"
      ],
      "metadata": {
        "id": "mobTsX8XgIcL"
      },
      "execution_count": null,
      "outputs": []
    },
    {
      "cell_type": "code",
      "source": [
        "#saving result\n",
        "filtered_df.to_csv(\"/content/drive/MyDrive/Networks in cities/Dados/Caucaia/filtered_cdr.txt\")\n",
        "#filtered_df.to_csv(\"/content/drive/MyDrive/Networks in cities/Dados/Fortaleza/filtered_cdr.txt\")"
      ],
      "metadata": {
        "id": "hlUXCNONgMDT"
      },
      "execution_count": null,
      "outputs": []
    }
  ]
}