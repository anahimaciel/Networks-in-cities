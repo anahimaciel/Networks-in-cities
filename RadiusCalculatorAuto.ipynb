{
  "nbformat": 4,
  "nbformat_minor": 0,
  "metadata": {
    "colab": {
      "provenance": [],
      "authorship_tag": "ABX9TyNyPA+w/kBnotQnEM8O++Oh",
      "include_colab_link": true
    },
    "kernelspec": {
      "name": "python3",
      "display_name": "Python 3"
    },
    "language_info": {
      "name": "python"
    }
  },
  "cells": [
    {
      "cell_type": "markdown",
      "metadata": {
        "id": "view-in-github",
        "colab_type": "text"
      },
      "source": [
        "<a href=\"https://colab.research.google.com/github/anahimaciel/Networks-in-cities/blob/main/RadiusCalculatorAuto.ipynb\" target=\"_parent\"><img src=\"https://colab.research.google.com/assets/colab-badge.svg\" alt=\"Open In Colab\"/></a>"
      ]
    },
    {
      "cell_type": "code",
      "execution_count": 1,
      "metadata": {
        "colab": {
          "base_uri": "https://localhost:8080/"
        },
        "id": "JfsvQVjq09Rs",
        "outputId": "1c3a10d6-4d03-44eb-cc6a-6f3ce28114b5"
      },
      "outputs": [
        {
          "output_type": "stream",
          "name": "stdout",
          "text": [
            "Mounted at /content/drive\n"
          ]
        }
      ],
      "source": [
        "from google.colab import drive\n",
        "drive.mount('/content/drive')"
      ]
    },
    {
      "cell_type": "code",
      "source": [
        "import numpy as np\n",
        "import pandas as pd\n",
        "import os\n",
        "\n",
        "from shapely.geometry import Point\n",
        "import geopandas as gpd\n",
        "from geopandas import GeoDataFrame\n",
        "import geopy.distance"
      ],
      "metadata": {
        "id": "FevJ1n7-1ZIv"
      },
      "execution_count": 2,
      "outputs": []
    },
    {
      "cell_type": "code",
      "source": [
        "#2m39\n",
        "for city in os.listdir(\"/content/drive/MyDrive/Networks in cities/Dados\"):\n",
        "  if(city==\"Fortaleza\" or city==\".ipynb_checkpoints\"):\n",
        "    continue\n",
        "\n",
        "  print(city)\n",
        "\n",
        "  #read df\n",
        "  df = pd.read_csv(\"/content/drive/MyDrive/Networks in cities/Dados/\"+city+\"/filtered_cdr.txt\",usecols=[1,2,3,4,5])\n",
        "  #read antennas files\n",
        "  map = pd.read_csv(\"/content/drive/MyDrive/Networks in cities/Dados/\"+city+\"/antennas_\"+city+\".txt\", sep=';')\n",
        "\n",
        "  #convert to datetime object\n",
        "  df['date']=pd.to_datetime(df['date'])\n",
        "  #create column with days of the week\n",
        "  df['day_week']=df['date'].dt.day_name()\n",
        "\n",
        "  #create dataframe with calls in weekends and nights\n",
        "  night_df=df[(df['day_week']=='Saturday') | (df['day_week']=='Sunday') | (df['time']> '19:00:00') | (df['time']< '06:00:00')]\n",
        "\n",
        "  #create dataframe with data necessary to compute places of residence\n",
        "  residence_df=night_df.groupby(['user_from','antenna']).size().reset_index(name='time')\n",
        "\n",
        "  #compute places of residence\n",
        "  #drop locations other than the first\n",
        "  residence_df=residence_df.sort_values(['user_from','time'],ascending=[True,False]).drop_duplicates('user_from')\n",
        "  #only keep users whose first location complies with certain parameters (more than half of the calls of the user)\n",
        "  number_calls_map=residence_df['user_from'].map(df.groupby('user_from').size())\n",
        "  filter=(residence_df['time']>number_calls_map/2)\n",
        "  residence_df=residence_df[filter]\n",
        "\n",
        "  #include geographical location of antennas in residence dataframe\n",
        "  map=map.rename(columns={\"CELLID\": \"antenna\"})\n",
        "  residence_df=pd.merge(residence_df,map,on=\"antenna\",how=\"left\")\n",
        "\n",
        "  #delete unnecessary columns\n",
        "  residence_df=residence_df.drop(['time','UF','DDD','CITY','MUNICIPALITY'],axis=1)\n",
        "  residence_df.sort_values('antenna')\n",
        "\n",
        "  #extract from df users whose place of residence were not found (useful for next step)\n",
        "  filter=df['user_from'].isin(residence_df['user_from']) & df['user_to'].isin(residence_df['user_from'])\n",
        "  filtered_df=df[filter]\n",
        "\n",
        "  #dicts with coordinates\n",
        "  dict_lat = residence_df.set_index('user_from')['LAT'].to_dict()\n",
        "  dict_long = residence_df.set_index('user_from')['LONG'].to_dict()\n",
        "\n",
        "  #function to calculate distance between residences of caller and receiver for each call\n",
        "  def get_distance(row):\n",
        "      coords_caller=(dict_lat[row.user_from],dict_long[row.user_from])                #deixar mais rapido: agrupar por pessoa q ta ligando (n sei se ajudaria mt)\n",
        "      coords_receiver=(dict_lat[row.user_to],dict_long[row.user_to])\n",
        "      return geopy.distance.distance(coords_caller,coords_receiver).km\n",
        "\n",
        "  #apply function to filtered_df\n",
        "  filtered_df['distance'] = filtered_df.apply(get_distance, axis=1)\n",
        "\n",
        "  #drop calls to the same receiver (nao sei pq)\n",
        "  groups=filtered_df.groupby(['user_from','user_to'])\n",
        "  aux=groups.first()\n",
        "  unique_calls=len(aux)\n",
        "  aux=aux.groupby('user_from')['distance'].sum().to_frame(name='total_distance_without_alpha')\n",
        "  non_zero_df=aux[aux['total_distance_without_alpha']!=0]\n",
        "\n",
        "  #calculate average radius for each user\n",
        "  radii=filtered_df.groupby(\"user_from\").agg({'distance':['sum','size'],'user_to':'nunique'})\n",
        "  radii.columns=['total_distance','n_calls','contacts']\n",
        "  radii['avg_dist_by_calls']=radii['total_distance']/radii['n_calls']\n",
        "  radii['avg_radius']=radii['total_distance']/radii['contacts']\n",
        "  radii['total_distance_without_alpha']=aux['total_distance_without_alpha']\n",
        "  radii['avg_radius_without_alpha']=aux['total_distance_without_alpha']/radii['contacts']\n",
        "\n",
        "  #results\n",
        "  with open(\"/content/drive/MyDrive/Networks in cities/Dados/\"+city+\"/results.txt\",'a') as file:\n",
        "    file.truncate(0)\n",
        "    for i in radii.columns:\n",
        "      results_df=radii.agg({i:['max','min','mean']})\n",
        "      file.write(results_df.to_string(index=False)+\"\\n\")\n",
        "\n",
        "  #saving demography data\n",
        "  with open(\"/content/drive/MyDrive/Networks in cities/Dados/\"+city+\"/demo2.txt\",'a') as file:\n",
        "    file.truncate(0)\n",
        "    file.write(\"users with residence: \"+str(len(residence_df))+\"\\n\")\n",
        "    file.write(\"calls by users with residence: \"+str(len(filtered_df))+\"\\n\")\n",
        "    file.write(\"calls to unique contacts by users with residence: \"+str(len(aux))+\"\\n\")\n",
        "    file.write(\"calls to unique contacts by users with residence with distance != 0: \"+ str(len(non_zero_df))+\"\\n\")"
      ],
      "metadata": {
        "colab": {
          "base_uri": "https://localhost:8080/"
        },
        "id": "_Rz4kH9u1bKZ",
        "outputId": "d0be9c1b-93ac-4f0f-b0de-b350736ac824"
      },
      "execution_count": 6,
      "outputs": [
        {
          "output_type": "stream",
          "name": "stdout",
          "text": [
            "Franca\n"
          ]
        },
        {
          "output_type": "stream",
          "name": "stderr",
          "text": [
            "<ipython-input-6-b403b9371b71>:55: SettingWithCopyWarning: \n",
            "A value is trying to be set on a copy of a slice from a DataFrame.\n",
            "Try using .loc[row_indexer,col_indexer] = value instead\n",
            "\n",
            "See the caveats in the documentation: https://pandas.pydata.org/pandas-docs/stable/user_guide/indexing.html#returning-a-view-versus-a-copy\n",
            "  filtered_df['distance'] = filtered_df.apply(get_distance, axis=1)\n"
          ]
        },
        {
          "output_type": "stream",
          "name": "stdout",
          "text": [
            "Jundiaí\n"
          ]
        },
        {
          "output_type": "stream",
          "name": "stderr",
          "text": [
            "<ipython-input-6-b403b9371b71>:55: SettingWithCopyWarning: \n",
            "A value is trying to be set on a copy of a slice from a DataFrame.\n",
            "Try using .loc[row_indexer,col_indexer] = value instead\n",
            "\n",
            "See the caveats in the documentation: https://pandas.pydata.org/pandas-docs/stable/user_guide/indexing.html#returning-a-view-versus-a-copy\n",
            "  filtered_df['distance'] = filtered_df.apply(get_distance, axis=1)\n"
          ]
        },
        {
          "output_type": "stream",
          "name": "stdout",
          "text": [
            "Piracicaba\n"
          ]
        },
        {
          "output_type": "stream",
          "name": "stderr",
          "text": [
            "<ipython-input-6-b403b9371b71>:55: SettingWithCopyWarning: \n",
            "A value is trying to be set on a copy of a slice from a DataFrame.\n",
            "Try using .loc[row_indexer,col_indexer] = value instead\n",
            "\n",
            "See the caveats in the documentation: https://pandas.pydata.org/pandas-docs/stable/user_guide/indexing.html#returning-a-view-versus-a-copy\n",
            "  filtered_df['distance'] = filtered_df.apply(get_distance, axis=1)\n"
          ]
        },
        {
          "output_type": "stream",
          "name": "stdout",
          "text": [
            "Suzano\n"
          ]
        },
        {
          "output_type": "stream",
          "name": "stderr",
          "text": [
            "<ipython-input-6-b403b9371b71>:55: SettingWithCopyWarning: \n",
            "A value is trying to be set on a copy of a slice from a DataFrame.\n",
            "Try using .loc[row_indexer,col_indexer] = value instead\n",
            "\n",
            "See the caveats in the documentation: https://pandas.pydata.org/pandas-docs/stable/user_guide/indexing.html#returning-a-view-versus-a-copy\n",
            "  filtered_df['distance'] = filtered_df.apply(get_distance, axis=1)\n"
          ]
        },
        {
          "output_type": "stream",
          "name": "stdout",
          "text": [
            "Taubaté\n"
          ]
        },
        {
          "output_type": "stream",
          "name": "stderr",
          "text": [
            "<ipython-input-6-b403b9371b71>:55: SettingWithCopyWarning: \n",
            "A value is trying to be set on a copy of a slice from a DataFrame.\n",
            "Try using .loc[row_indexer,col_indexer] = value instead\n",
            "\n",
            "See the caveats in the documentation: https://pandas.pydata.org/pandas-docs/stable/user_guide/indexing.html#returning-a-view-versus-a-copy\n",
            "  filtered_df['distance'] = filtered_df.apply(get_distance, axis=1)\n"
          ]
        },
        {
          "output_type": "stream",
          "name": "stdout",
          "text": [
            "Mogi das Cruzes\n"
          ]
        },
        {
          "output_type": "stream",
          "name": "stderr",
          "text": [
            "<ipython-input-6-b403b9371b71>:55: SettingWithCopyWarning: \n",
            "A value is trying to be set on a copy of a slice from a DataFrame.\n",
            "Try using .loc[row_indexer,col_indexer] = value instead\n",
            "\n",
            "See the caveats in the documentation: https://pandas.pydata.org/pandas-docs/stable/user_guide/indexing.html#returning-a-view-versus-a-copy\n",
            "  filtered_df['distance'] = filtered_df.apply(get_distance, axis=1)\n"
          ]
        },
        {
          "output_type": "stream",
          "name": "stdout",
          "text": [
            "Montes Claros\n"
          ]
        },
        {
          "output_type": "stream",
          "name": "stderr",
          "text": [
            "<ipython-input-6-b403b9371b71>:55: SettingWithCopyWarning: \n",
            "A value is trying to be set on a copy of a slice from a DataFrame.\n",
            "Try using .loc[row_indexer,col_indexer] = value instead\n",
            "\n",
            "See the caveats in the documentation: https://pandas.pydata.org/pandas-docs/stable/user_guide/indexing.html#returning-a-view-versus-a-copy\n",
            "  filtered_df['distance'] = filtered_df.apply(get_distance, axis=1)\n"
          ]
        },
        {
          "output_type": "stream",
          "name": "stdout",
          "text": [
            "Ponta Grossa\n"
          ]
        },
        {
          "output_type": "stream",
          "name": "stderr",
          "text": [
            "<ipython-input-6-b403b9371b71>:55: SettingWithCopyWarning: \n",
            "A value is trying to be set on a copy of a slice from a DataFrame.\n",
            "Try using .loc[row_indexer,col_indexer] = value instead\n",
            "\n",
            "See the caveats in the documentation: https://pandas.pydata.org/pandas-docs/stable/user_guide/indexing.html#returning-a-view-versus-a-copy\n",
            "  filtered_df['distance'] = filtered_df.apply(get_distance, axis=1)\n"
          ]
        },
        {
          "output_type": "stream",
          "name": "stdout",
          "text": [
            "Rio Branco\n"
          ]
        },
        {
          "output_type": "stream",
          "name": "stderr",
          "text": [
            "<ipython-input-6-b403b9371b71>:55: SettingWithCopyWarning: \n",
            "A value is trying to be set on a copy of a slice from a DataFrame.\n",
            "Try using .loc[row_indexer,col_indexer] = value instead\n",
            "\n",
            "See the caveats in the documentation: https://pandas.pydata.org/pandas-docs/stable/user_guide/indexing.html#returning-a-view-versus-a-copy\n",
            "  filtered_df['distance'] = filtered_df.apply(get_distance, axis=1)\n"
          ]
        }
      ]
    }
  ]
}