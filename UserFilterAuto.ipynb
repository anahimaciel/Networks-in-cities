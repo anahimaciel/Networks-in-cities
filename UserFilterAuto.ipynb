{
  "nbformat": 4,
  "nbformat_minor": 0,
  "metadata": {
    "colab": {
      "provenance": [],
      "authorship_tag": "ABX9TyNJcGy4l7ACnrY7irvnSso7",
      "include_colab_link": true
    },
    "kernelspec": {
      "name": "python3",
      "display_name": "Python 3"
    },
    "language_info": {
      "name": "python"
    }
  },
  "cells": [
    {
      "cell_type": "markdown",
      "metadata": {
        "id": "view-in-github",
        "colab_type": "text"
      },
      "source": [
        "<a href=\"https://colab.research.google.com/github/anahimaciel/Networks-in-cities/blob/main/UserFilterAuto.ipynb\" target=\"_parent\"><img src=\"https://colab.research.google.com/assets/colab-badge.svg\" alt=\"Open In Colab\"/></a>"
      ]
    },
    {
      "cell_type": "code",
      "source": [
        "from google.colab import drive\n",
        "drive.mount('/content/drive')"
      ],
      "metadata": {
        "id": "3nA_T9C80n25"
      },
      "execution_count": null,
      "outputs": []
    },
    {
      "cell_type": "code",
      "source": [
        "import numpy as np\n",
        "import pandas as pd\n",
        "import os"
      ],
      "metadata": {
        "id": "_jVPskr50xNy"
      },
      "execution_count": null,
      "outputs": []
    },
    {
      "cell_type": "code",
      "execution_count": null,
      "metadata": {
        "id": "FtQzYf4p0iet"
      },
      "outputs": [],
      "source": [
        "#takes 2m44s to run without caucaia\n",
        "for city in os.listdir(\"/content/drive/MyDrive/Networks in cities/Dados\"):\n",
        "  if(city==\"Fortaleza\" or city==\".ipynb_checkpoints\"):\n",
        "    continue\n",
        "\n",
        "  #if(city!= \"Caucaia\"):\n",
        "  #  continue\n",
        "\n",
        "  print(city)\n",
        "\n",
        "  #read csv\n",
        "  df=pd.read_csv(\"/content/drive/MyDrive/Networks in cities/Dados/\" +city+ \"/cdr_\"+ city +\".txt\", header=None, sep=';',usecols=[0,1,4,6,7])\n",
        "\n",
        "  #cdr_data.columns = [\"date\", \"time\", \"duration\", \"ddd_from\",\n",
        "  #\"user_from\", \"ddd_to\", \"user_to\", \"antenna\", \"cell_id_to\",\n",
        "  # \"nu_trafego\", \"tp_trafego\", \"hold_from\", \"hold_to\", \"tp_line\", \"unk_number\"]\n",
        "\n",
        "  df.columns = [\"date\", \"time\",\"user_from\",\"user_to\",\"antenna\"]\n",
        "\n",
        "  #create dataframe with number of calls of each user\n",
        "  calls_by_user=df.groupby('user_from').agg({'date':'nunique','time':'nunique'}).reset_index()\n",
        "\n",
        "  #drop users outside that made too few or too many calls and whoo called in less than 5 different days\n",
        "  filter=((calls_by_user['date']>5) & (calls_by_user['time']>=10) & (calls_by_user['time']<=300))\n",
        "  filtered_users= calls_by_user.loc[filter,'user_from']\n",
        "  filtered_df=df[~df['user_from'].isin(filtered_users)]\n",
        "  #aux=df['user_from'].map(calls_by_user)\n",
        "  #filtered_df=df[(aux['time'].between(5,300, inclusive=True)) & (not aux['date'].between(0,4, inclusive=True))]\n",
        "\n",
        "  #saving demography data\n",
        "  with open(\"/content/drive/MyDrive/Networks in cities/Dados/\"+city+\"/demo.txt\",'a') as file:\n",
        "    file.truncate(0)\n",
        "    file.write(\"users: \"+str(len(calls_by_user))+\"\\n\")\n",
        "    file.write(\"significative users: \"+str(len(filtered_users))+\"\\n\")\n",
        "    file.write(\"calls: \" + str(len(df))+ \"\\n\")\n",
        "    file.write(\"calls by sig users: \"+str(len(filtered_df))+\"\\n\")\n",
        "\n",
        "  #saving result\n",
        "  filtered_df.to_csv(\"/content/drive/MyDrive/Networks in cities/Dados/\"+city+\"/filtered_cdr.txt\")"
      ]
    }
  ]
}